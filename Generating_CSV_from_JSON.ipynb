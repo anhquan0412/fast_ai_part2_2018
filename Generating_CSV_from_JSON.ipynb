{
 "cells": [
  {
   "cell_type": "code",
   "execution_count": 1,
   "metadata": {},
   "outputs": [],
   "source": [
    "%matplotlib inline\n",
    "%reload_ext autoreload\n",
    "%autoreload 2"
   ]
  },
  {
   "cell_type": "code",
   "execution_count": 14,
   "metadata": {},
   "outputs": [],
   "source": [
    "from IPython.core.interactiveshell import InteractiveShell\n",
    "InteractiveShell.ast_node_interactivity = \"all\""
   ]
  },
  {
   "cell_type": "code",
   "execution_count": 2,
   "metadata": {},
   "outputs": [],
   "source": [
    "from fastai.conv_learner import *\n",
    "from fastai.dataset import *\n",
    "\n",
    "from pathlib import Path\n",
    "import json\n",
    "from PIL import ImageDraw, ImageFont\n",
    "from matplotlib import patches, patheffects"
   ]
  },
  {
   "cell_type": "code",
   "execution_count": 9,
   "metadata": {},
   "outputs": [],
   "source": [
    "import pandas as pd"
   ]
  },
  {
   "cell_type": "code",
   "execution_count": 3,
   "metadata": {},
   "outputs": [
    {
     "data": {
      "text/plain": [
       "[WindowsPath('data/pascal/models'),\n",
       " WindowsPath('data/pascal/pascal_test2007.json'),\n",
       " WindowsPath('data/pascal/pascal_train2007.json'),\n",
       " WindowsPath('data/pascal/pascal_train2012.json'),\n",
       " WindowsPath('data/pascal/pascal_val2007.json'),\n",
       " WindowsPath('data/pascal/pascal_val2012.json'),\n",
       " WindowsPath('data/pascal/tmp'),\n",
       " WindowsPath('data/pascal/VOC2012')]"
      ]
     },
     "execution_count": 3,
     "metadata": {},
     "output_type": "execute_result"
    }
   ],
   "source": [
    "PATH = Path('data/pascal')\n",
    "list(PATH.iterdir())"
   ]
  },
  {
   "cell_type": "markdown",
   "metadata": {},
   "source": [
    "# Working with JSON\n"
   ]
  },
  {
   "cell_type": "code",
   "execution_count": 105,
   "metadata": {},
   "outputs": [],
   "source": [
    "trn_j = json.load((PATH/'pascal_train2007.json').open())"
   ]
  },
  {
   "cell_type": "code",
   "execution_count": 106,
   "metadata": {},
   "outputs": [
    {
     "data": {
      "text/plain": [
       "dict_keys(['images', 'type', 'annotations', 'categories'])"
      ]
     },
     "execution_count": 106,
     "metadata": {},
     "output_type": "execute_result"
    }
   ],
   "source": [
    "trn_j.keys()"
   ]
  },
  {
   "cell_type": "code",
   "execution_count": 107,
   "metadata": {},
   "outputs": [
    {
     "data": {
      "text/plain": [
       "2501"
      ]
     },
     "execution_count": 107,
     "metadata": {},
     "output_type": "execute_result"
    },
    {
     "data": {
      "text/plain": [
       "[{'file_name': '000012.jpg', 'height': 333, 'id': 12, 'width': 500},\n",
       " {'file_name': '000017.jpg', 'height': 364, 'id': 17, 'width': 480},\n",
       " {'file_name': '000023.jpg', 'height': 500, 'id': 23, 'width': 334},\n",
       " {'file_name': '000026.jpg', 'height': 333, 'id': 26, 'width': 500},\n",
       " {'file_name': '000032.jpg', 'height': 281, 'id': 32, 'width': 500}]"
      ]
     },
     "execution_count": 107,
     "metadata": {},
     "output_type": "execute_result"
    }
   ],
   "source": [
    "len(trn_j['images'])\n",
    "trn_j['images'][:5]"
   ]
  },
  {
   "cell_type": "code",
   "execution_count": 109,
   "metadata": {},
   "outputs": [
    {
     "data": {
      "text/html": [
       "<div>\n",
       "<style scoped>\n",
       "    .dataframe tbody tr th:only-of-type {\n",
       "        vertical-align: middle;\n",
       "    }\n",
       "\n",
       "    .dataframe tbody tr th {\n",
       "        vertical-align: top;\n",
       "    }\n",
       "\n",
       "    .dataframe thead th {\n",
       "        text-align: right;\n",
       "    }\n",
       "</style>\n",
       "<table border=\"1\" class=\"dataframe\">\n",
       "  <thead>\n",
       "    <tr style=\"text-align: right;\">\n",
       "      <th></th>\n",
       "      <th>file_name</th>\n",
       "      <th>height</th>\n",
       "      <th>id</th>\n",
       "      <th>width</th>\n",
       "    </tr>\n",
       "  </thead>\n",
       "  <tbody>\n",
       "    <tr>\n",
       "      <th>0</th>\n",
       "      <td>000012.jpg</td>\n",
       "      <td>333</td>\n",
       "      <td>12</td>\n",
       "      <td>500</td>\n",
       "    </tr>\n",
       "    <tr>\n",
       "      <th>1</th>\n",
       "      <td>000017.jpg</td>\n",
       "      <td>364</td>\n",
       "      <td>17</td>\n",
       "      <td>480</td>\n",
       "    </tr>\n",
       "    <tr>\n",
       "      <th>2</th>\n",
       "      <td>000023.jpg</td>\n",
       "      <td>500</td>\n",
       "      <td>23</td>\n",
       "      <td>334</td>\n",
       "    </tr>\n",
       "    <tr>\n",
       "      <th>3</th>\n",
       "      <td>000026.jpg</td>\n",
       "      <td>333</td>\n",
       "      <td>26</td>\n",
       "      <td>500</td>\n",
       "    </tr>\n",
       "    <tr>\n",
       "      <th>4</th>\n",
       "      <td>000032.jpg</td>\n",
       "      <td>281</td>\n",
       "      <td>32</td>\n",
       "      <td>500</td>\n",
       "    </tr>\n",
       "  </tbody>\n",
       "</table>\n",
       "</div>"
      ],
      "text/plain": [
       "    file_name  height  id  width\n",
       "0  000012.jpg     333  12    500\n",
       "1  000017.jpg     364  17    480\n",
       "2  000023.jpg     500  23    334\n",
       "3  000026.jpg     333  26    500\n",
       "4  000032.jpg     281  32    500"
      ]
     },
     "execution_count": 109,
     "metadata": {},
     "output_type": "execute_result"
    }
   ],
   "source": [
    "image_df = pd.DataFrame.from_dict(trn_j['images'])\n",
    "image_df.head()"
   ]
  },
  {
   "cell_type": "code",
   "execution_count": 110,
   "metadata": {},
   "outputs": [
    {
     "data": {
      "text/plain": [
       "7844"
      ]
     },
     "execution_count": 110,
     "metadata": {},
     "output_type": "execute_result"
    },
    {
     "data": {
      "text/plain": [
       "{'area': 34104,\n",
       " 'bbox': [155, 96, 196, 174],\n",
       " 'category_id': 7,\n",
       " 'id': 1,\n",
       " 'ignore': 0,\n",
       " 'image_id': 12,\n",
       " 'iscrowd': 0,\n",
       " 'segmentation': [[155, 96, 155, 270, 351, 270, 351, 96]]}"
      ]
     },
     "execution_count": 110,
     "metadata": {},
     "output_type": "execute_result"
    }
   ],
   "source": [
    "len(trn_j['annotations'])\n",
    "trn_j['annotations'][0]"
   ]
  },
  {
   "cell_type": "code",
   "execution_count": 115,
   "metadata": {},
   "outputs": [
    {
     "data": {
      "text/html": [
       "<div>\n",
       "<style scoped>\n",
       "    .dataframe tbody tr th:only-of-type {\n",
       "        vertical-align: middle;\n",
       "    }\n",
       "\n",
       "    .dataframe tbody tr th {\n",
       "        vertical-align: top;\n",
       "    }\n",
       "\n",
       "    .dataframe thead th {\n",
       "        text-align: right;\n",
       "    }\n",
       "</style>\n",
       "<table border=\"1\" class=\"dataframe\">\n",
       "  <thead>\n",
       "    <tr style=\"text-align: right;\">\n",
       "      <th></th>\n",
       "      <th>area</th>\n",
       "      <th>bbox</th>\n",
       "      <th>category_id</th>\n",
       "      <th>id</th>\n",
       "      <th>image_id</th>\n",
       "      <th>iscrowd</th>\n",
       "      <th>segmentation</th>\n",
       "    </tr>\n",
       "  </thead>\n",
       "  <tbody>\n",
       "    <tr>\n",
       "      <th>0</th>\n",
       "      <td>34104</td>\n",
       "      <td>[96, 155, 269, 350]</td>\n",
       "      <td>7</td>\n",
       "      <td>1</td>\n",
       "      <td>12</td>\n",
       "      <td>0</td>\n",
       "      <td>[[155, 96, 155, 270, 351, 270, 351, 96]]</td>\n",
       "    </tr>\n",
       "    <tr>\n",
       "      <th>1</th>\n",
       "      <td>13110</td>\n",
       "      <td>[61, 184, 198, 278]</td>\n",
       "      <td>15</td>\n",
       "      <td>2</td>\n",
       "      <td>17</td>\n",
       "      <td>0</td>\n",
       "      <td>[[184, 61, 184, 199, 279, 199, 279, 61]]</td>\n",
       "    </tr>\n",
       "    <tr>\n",
       "      <th>2</th>\n",
       "      <td>81326</td>\n",
       "      <td>[77, 89, 335, 402]</td>\n",
       "      <td>13</td>\n",
       "      <td>3</td>\n",
       "      <td>17</td>\n",
       "      <td>0</td>\n",
       "      <td>[[89, 77, 89, 336, 403, 336, 403, 77]]</td>\n",
       "    </tr>\n",
       "    <tr>\n",
       "      <th>3</th>\n",
       "      <td>64227</td>\n",
       "      <td>[229, 8, 499, 244]</td>\n",
       "      <td>2</td>\n",
       "      <td>4</td>\n",
       "      <td>23</td>\n",
       "      <td>0</td>\n",
       "      <td>[[8, 229, 8, 500, 245, 500, 245, 229]]</td>\n",
       "    </tr>\n",
       "    <tr>\n",
       "      <th>4</th>\n",
       "      <td>29505</td>\n",
       "      <td>[219, 229, 499, 333]</td>\n",
       "      <td>2</td>\n",
       "      <td>5</td>\n",
       "      <td>23</td>\n",
       "      <td>0</td>\n",
       "      <td>[[229, 219, 229, 500, 334, 500, 334, 219]]</td>\n",
       "    </tr>\n",
       "  </tbody>\n",
       "</table>\n",
       "</div>"
      ],
      "text/plain": [
       "    area                  bbox  category_id  id  image_id  iscrowd  \\\n",
       "0  34104   [96, 155, 269, 350]            7   1        12        0   \n",
       "1  13110   [61, 184, 198, 278]           15   2        17        0   \n",
       "2  81326    [77, 89, 335, 402]           13   3        17        0   \n",
       "3  64227    [229, 8, 499, 244]            2   4        23        0   \n",
       "4  29505  [219, 229, 499, 333]            2   5        23        0   \n",
       "\n",
       "                                 segmentation  \n",
       "0    [[155, 96, 155, 270, 351, 270, 351, 96]]  \n",
       "1    [[184, 61, 184, 199, 279, 199, 279, 61]]  \n",
       "2      [[89, 77, 89, 336, 403, 336, 403, 77]]  \n",
       "3      [[8, 229, 8, 500, 245, 500, 245, 229]]  \n",
       "4  [[229, 219, 229, 500, 334, 500, 334, 219]]  "
      ]
     },
     "execution_count": 115,
     "metadata": {},
     "output_type": "execute_result"
    },
    {
     "data": {
      "text/plain": [
       "(6301, 7)"
      ]
     },
     "execution_count": 115,
     "metadata": {},
     "output_type": "execute_result"
    }
   ],
   "source": [
    "anno_df = pd.DataFrame.from_dict(trn_j['annotations'])\n",
    "#convert bbox x,y,w,h to y1,x1,y2,x2 (upper left, lower right)\n",
    "anno_df.bbox = anno_df.bbox.apply(lambda x: [x[1],x[0],x[3]+x[1]-1,x[2]+x[0]-1])\n",
    "anno_df=anno_df[anno_df.ignore==0].drop('ignore',axis=1)\n",
    "anno_df.head()\n",
    "anno_df.shape"
   ]
  },
  {
   "cell_type": "code",
   "execution_count": 116,
   "metadata": {},
   "outputs": [
    {
     "data": {
      "text/html": [
       "<div>\n",
       "<style scoped>\n",
       "    .dataframe tbody tr th:only-of-type {\n",
       "        vertical-align: middle;\n",
       "    }\n",
       "\n",
       "    .dataframe tbody tr th {\n",
       "        vertical-align: top;\n",
       "    }\n",
       "\n",
       "    .dataframe thead th {\n",
       "        text-align: right;\n",
       "    }\n",
       "</style>\n",
       "<table border=\"1\" class=\"dataframe\">\n",
       "  <thead>\n",
       "    <tr style=\"text-align: right;\">\n",
       "      <th></th>\n",
       "      <th>category_id</th>\n",
       "      <th>cat_name</th>\n",
       "    </tr>\n",
       "  </thead>\n",
       "  <tbody>\n",
       "    <tr>\n",
       "      <th>0</th>\n",
       "      <td>1</td>\n",
       "      <td>aeroplane</td>\n",
       "    </tr>\n",
       "    <tr>\n",
       "      <th>1</th>\n",
       "      <td>2</td>\n",
       "      <td>bicycle</td>\n",
       "    </tr>\n",
       "    <tr>\n",
       "      <th>2</th>\n",
       "      <td>3</td>\n",
       "      <td>bird</td>\n",
       "    </tr>\n",
       "    <tr>\n",
       "      <th>3</th>\n",
       "      <td>4</td>\n",
       "      <td>boat</td>\n",
       "    </tr>\n",
       "    <tr>\n",
       "      <th>4</th>\n",
       "      <td>5</td>\n",
       "      <td>bottle</td>\n",
       "    </tr>\n",
       "  </tbody>\n",
       "</table>\n",
       "</div>"
      ],
      "text/plain": [
       "   category_id   cat_name\n",
       "0            1  aeroplane\n",
       "1            2    bicycle\n",
       "2            3       bird\n",
       "3            4       boat\n",
       "4            5     bottle"
      ]
     },
     "execution_count": 116,
     "metadata": {},
     "output_type": "execute_result"
    }
   ],
   "source": [
    "cat_df = pd.DataFrame.from_dict(trn_j['categories']).drop('supercategory',axis=1)\n",
    "cat_df.columns=['category_id','cat_name']\n",
    "cat_df.head()"
   ]
  },
  {
   "cell_type": "code",
   "execution_count": 117,
   "metadata": {},
   "outputs": [],
   "source": [
    "cat2id={i['name']:i['id'] for i in trn_j['categories']}\n",
    "id2cat={i['id']:i['name'] for i in trn_j['categories']}"
   ]
  },
  {
   "cell_type": "code",
   "execution_count": 118,
   "metadata": {},
   "outputs": [],
   "source": [
    "final_df = anno_df.merge(image_df,how='left',left_on='image_id',\n",
    "                        right_on='id').drop(['id_x','id_y'],axis=1)\n"
   ]
  },
  {
   "cell_type": "code",
   "execution_count": 119,
   "metadata": {},
   "outputs": [],
   "source": [
    "final_df = final_df.merge(cat_df,how='left',on='category_id')"
   ]
  },
  {
   "cell_type": "code",
   "execution_count": 120,
   "metadata": {
    "scrolled": true
   },
   "outputs": [
    {
     "data": {
      "text/plain": [
       "(6301, 10)"
      ]
     },
     "execution_count": 120,
     "metadata": {},
     "output_type": "execute_result"
    },
    {
     "data": {
      "text/html": [
       "<div>\n",
       "<style scoped>\n",
       "    .dataframe tbody tr th:only-of-type {\n",
       "        vertical-align: middle;\n",
       "    }\n",
       "\n",
       "    .dataframe tbody tr th {\n",
       "        vertical-align: top;\n",
       "    }\n",
       "\n",
       "    .dataframe thead th {\n",
       "        text-align: right;\n",
       "    }\n",
       "</style>\n",
       "<table border=\"1\" class=\"dataframe\">\n",
       "  <thead>\n",
       "    <tr style=\"text-align: right;\">\n",
       "      <th></th>\n",
       "      <th>0</th>\n",
       "      <th>1</th>\n",
       "      <th>2</th>\n",
       "      <th>3</th>\n",
       "      <th>4</th>\n",
       "    </tr>\n",
       "  </thead>\n",
       "  <tbody>\n",
       "    <tr>\n",
       "      <th>area</th>\n",
       "      <td>34104</td>\n",
       "      <td>13110</td>\n",
       "      <td>81326</td>\n",
       "      <td>64227</td>\n",
       "      <td>29505</td>\n",
       "    </tr>\n",
       "    <tr>\n",
       "      <th>bbox</th>\n",
       "      <td>[96, 155, 269, 350]</td>\n",
       "      <td>[61, 184, 198, 278]</td>\n",
       "      <td>[77, 89, 335, 402]</td>\n",
       "      <td>[229, 8, 499, 244]</td>\n",
       "      <td>[219, 229, 499, 333]</td>\n",
       "    </tr>\n",
       "    <tr>\n",
       "      <th>category_id</th>\n",
       "      <td>7</td>\n",
       "      <td>15</td>\n",
       "      <td>13</td>\n",
       "      <td>2</td>\n",
       "      <td>2</td>\n",
       "    </tr>\n",
       "    <tr>\n",
       "      <th>image_id</th>\n",
       "      <td>12</td>\n",
       "      <td>17</td>\n",
       "      <td>17</td>\n",
       "      <td>23</td>\n",
       "      <td>23</td>\n",
       "    </tr>\n",
       "    <tr>\n",
       "      <th>iscrowd</th>\n",
       "      <td>0</td>\n",
       "      <td>0</td>\n",
       "      <td>0</td>\n",
       "      <td>0</td>\n",
       "      <td>0</td>\n",
       "    </tr>\n",
       "    <tr>\n",
       "      <th>segmentation</th>\n",
       "      <td>[[155, 96, 155, 270, 351, 270, 351, 96]]</td>\n",
       "      <td>[[184, 61, 184, 199, 279, 199, 279, 61]]</td>\n",
       "      <td>[[89, 77, 89, 336, 403, 336, 403, 77]]</td>\n",
       "      <td>[[8, 229, 8, 500, 245, 500, 245, 229]]</td>\n",
       "      <td>[[229, 219, 229, 500, 334, 500, 334, 219]]</td>\n",
       "    </tr>\n",
       "    <tr>\n",
       "      <th>file_name</th>\n",
       "      <td>000012.jpg</td>\n",
       "      <td>000017.jpg</td>\n",
       "      <td>000017.jpg</td>\n",
       "      <td>000023.jpg</td>\n",
       "      <td>000023.jpg</td>\n",
       "    </tr>\n",
       "    <tr>\n",
       "      <th>height</th>\n",
       "      <td>333</td>\n",
       "      <td>364</td>\n",
       "      <td>364</td>\n",
       "      <td>500</td>\n",
       "      <td>500</td>\n",
       "    </tr>\n",
       "    <tr>\n",
       "      <th>width</th>\n",
       "      <td>500</td>\n",
       "      <td>480</td>\n",
       "      <td>480</td>\n",
       "      <td>334</td>\n",
       "      <td>334</td>\n",
       "    </tr>\n",
       "    <tr>\n",
       "      <th>cat_name</th>\n",
       "      <td>car</td>\n",
       "      <td>person</td>\n",
       "      <td>horse</td>\n",
       "      <td>bicycle</td>\n",
       "      <td>bicycle</td>\n",
       "    </tr>\n",
       "  </tbody>\n",
       "</table>\n",
       "</div>"
      ],
      "text/plain": [
       "                                                     0  \\\n",
       "area                                             34104   \n",
       "bbox                               [96, 155, 269, 350]   \n",
       "category_id                                          7   \n",
       "image_id                                            12   \n",
       "iscrowd                                              0   \n",
       "segmentation  [[155, 96, 155, 270, 351, 270, 351, 96]]   \n",
       "file_name                                   000012.jpg   \n",
       "height                                             333   \n",
       "width                                              500   \n",
       "cat_name                                           car   \n",
       "\n",
       "                                                     1  \\\n",
       "area                                             13110   \n",
       "bbox                               [61, 184, 198, 278]   \n",
       "category_id                                         15   \n",
       "image_id                                            17   \n",
       "iscrowd                                              0   \n",
       "segmentation  [[184, 61, 184, 199, 279, 199, 279, 61]]   \n",
       "file_name                                   000017.jpg   \n",
       "height                                             364   \n",
       "width                                              480   \n",
       "cat_name                                        person   \n",
       "\n",
       "                                                   2  \\\n",
       "area                                           81326   \n",
       "bbox                              [77, 89, 335, 402]   \n",
       "category_id                                       13   \n",
       "image_id                                          17   \n",
       "iscrowd                                            0   \n",
       "segmentation  [[89, 77, 89, 336, 403, 336, 403, 77]]   \n",
       "file_name                                 000017.jpg   \n",
       "height                                           364   \n",
       "width                                            480   \n",
       "cat_name                                       horse   \n",
       "\n",
       "                                                   3  \\\n",
       "area                                           64227   \n",
       "bbox                              [229, 8, 499, 244]   \n",
       "category_id                                        2   \n",
       "image_id                                          23   \n",
       "iscrowd                                            0   \n",
       "segmentation  [[8, 229, 8, 500, 245, 500, 245, 229]]   \n",
       "file_name                                 000023.jpg   \n",
       "height                                           500   \n",
       "width                                            334   \n",
       "cat_name                                     bicycle   \n",
       "\n",
       "                                                       4  \n",
       "area                                               29505  \n",
       "bbox                                [219, 229, 499, 333]  \n",
       "category_id                                            2  \n",
       "image_id                                              23  \n",
       "iscrowd                                                0  \n",
       "segmentation  [[229, 219, 229, 500, 334, 500, 334, 219]]  \n",
       "file_name                                     000023.jpg  \n",
       "height                                               500  \n",
       "width                                                334  \n",
       "cat_name                                         bicycle  "
      ]
     },
     "execution_count": 120,
     "metadata": {},
     "output_type": "execute_result"
    }
   ],
   "source": [
    "final_df.shape\n",
    "final_df.head().T"
   ]
  },
  {
   "cell_type": "code",
   "execution_count": 65,
   "metadata": {},
   "outputs": [],
   "source": [
    "final_df.to_csv(PATH/'all_info.csv',index=False)"
   ]
  },
  {
   "cell_type": "markdown",
   "metadata": {},
   "source": [
    "From here you can get the csv you want for ImageClassifierData.from_csv"
   ]
  },
  {
   "cell_type": "code",
   "execution_count": 84,
   "metadata": {},
   "outputs": [
    {
     "name": "stdout",
     "output_type": "stream",
     "text": [
      "Wall time: 1.85 s\n"
     ]
    }
   ],
   "source": [
    "# %%time\n",
    "# #category csv, choose cat with larger bbox area\n",
    "\n",
    "# def filter_grp(g,col):\n",
    "#     return g[g[col]==g[col].max()]\n",
    "# lrg_cat=final_df.groupby(['file_name'],as_index=False).apply(lambda g: filter_grp(g,'area'))\n",
    "# # lrg_cat.columns=['file_name','cat_name']\n",
    "# # lrg_cat.head()"
   ]
  },
  {
   "cell_type": "code",
   "execution_count": 121,
   "metadata": {},
   "outputs": [
    {
     "data": {
      "text/html": [
       "<div>\n",
       "<style scoped>\n",
       "    .dataframe tbody tr th:only-of-type {\n",
       "        vertical-align: middle;\n",
       "    }\n",
       "\n",
       "    .dataframe tbody tr th {\n",
       "        vertical-align: top;\n",
       "    }\n",
       "\n",
       "    .dataframe thead th {\n",
       "        text-align: right;\n",
       "    }\n",
       "</style>\n",
       "<table border=\"1\" class=\"dataframe\">\n",
       "  <thead>\n",
       "    <tr style=\"text-align: right;\">\n",
       "      <th></th>\n",
       "      <th>area</th>\n",
       "      <th>bbox</th>\n",
       "      <th>category_id</th>\n",
       "      <th>image_id</th>\n",
       "      <th>iscrowd</th>\n",
       "      <th>segmentation</th>\n",
       "      <th>file_name</th>\n",
       "      <th>height</th>\n",
       "      <th>width</th>\n",
       "      <th>cat_name</th>\n",
       "    </tr>\n",
       "  </thead>\n",
       "  <tbody>\n",
       "    <tr>\n",
       "      <th>11</th>\n",
       "      <td>950</td>\n",
       "      <td>[179, 194, 228, 212]</td>\n",
       "      <td>15</td>\n",
       "      <td>32</td>\n",
       "      <td>0</td>\n",
       "      <td>[[194, 179, 194, 229, 213, 229, 213, 179]]</td>\n",
       "      <td>000032.jpg</td>\n",
       "      <td>281</td>\n",
       "      <td>500</td>\n",
       "      <td>person</td>\n",
       "    </tr>\n",
       "    <tr>\n",
       "      <th>12</th>\n",
       "      <td>950</td>\n",
       "      <td>[188, 25, 237, 43]</td>\n",
       "      <td>15</td>\n",
       "      <td>32</td>\n",
       "      <td>0</td>\n",
       "      <td>[[25, 188, 25, 238, 44, 238, 44, 188]]</td>\n",
       "      <td>000032.jpg</td>\n",
       "      <td>281</td>\n",
       "      <td>500</td>\n",
       "      <td>person</td>\n",
       "    </tr>\n",
       "    <tr>\n",
       "      <th>388</th>\n",
       "      <td>1218</td>\n",
       "      <td>[155, 252, 175, 309]</td>\n",
       "      <td>1</td>\n",
       "      <td>657</td>\n",
       "      <td>0</td>\n",
       "      <td>[[252, 155, 252, 176, 310, 176, 310, 155]]</td>\n",
       "      <td>000657.jpg</td>\n",
       "      <td>333</td>\n",
       "      <td>500</td>\n",
       "      <td>aeroplane</td>\n",
       "    </tr>\n",
       "    <tr>\n",
       "      <th>391</th>\n",
       "      <td>1218</td>\n",
       "      <td>[191, 233, 211, 290]</td>\n",
       "      <td>1</td>\n",
       "      <td>657</td>\n",
       "      <td>0</td>\n",
       "      <td>[[233, 191, 233, 212, 291, 212, 291, 191]]</td>\n",
       "      <td>000657.jpg</td>\n",
       "      <td>333</td>\n",
       "      <td>500</td>\n",
       "      <td>aeroplane</td>\n",
       "    </tr>\n",
       "    <tr>\n",
       "      <th>1601</th>\n",
       "      <td>4600</td>\n",
       "      <td>[59, 46, 173, 85]</td>\n",
       "      <td>15</td>\n",
       "      <td>2595</td>\n",
       "      <td>0</td>\n",
       "      <td>[[46, 59, 46, 174, 86, 174, 86, 59]]</td>\n",
       "      <td>002595.jpg</td>\n",
       "      <td>375</td>\n",
       "      <td>500</td>\n",
       "      <td>person</td>\n",
       "    </tr>\n",
       "    <tr>\n",
       "      <th>1602</th>\n",
       "      <td>4600</td>\n",
       "      <td>[68, 18, 182, 57]</td>\n",
       "      <td>15</td>\n",
       "      <td>2595</td>\n",
       "      <td>0</td>\n",
       "      <td>[[18, 68, 18, 183, 58, 183, 58, 68]]</td>\n",
       "      <td>002595.jpg</td>\n",
       "      <td>375</td>\n",
       "      <td>500</td>\n",
       "      <td>person</td>\n",
       "    </tr>\n",
       "    <tr>\n",
       "      <th>1636</th>\n",
       "      <td>1920</td>\n",
       "      <td>[174, 318, 213, 365]</td>\n",
       "      <td>3</td>\n",
       "      <td>2664</td>\n",
       "      <td>0</td>\n",
       "      <td>[[318, 174, 318, 214, 366, 214, 366, 174]]</td>\n",
       "      <td>002664.jpg</td>\n",
       "      <td>335</td>\n",
       "      <td>500</td>\n",
       "      <td>bird</td>\n",
       "    </tr>\n",
       "    <tr>\n",
       "      <th>1637</th>\n",
       "      <td>1920</td>\n",
       "      <td>[218, 460, 265, 499]</td>\n",
       "      <td>3</td>\n",
       "      <td>2664</td>\n",
       "      <td>0</td>\n",
       "      <td>[[460, 218, 460, 266, 500, 266, 500, 218]]</td>\n",
       "      <td>002664.jpg</td>\n",
       "      <td>335</td>\n",
       "      <td>500</td>\n",
       "      <td>bird</td>\n",
       "    </tr>\n",
       "    <tr>\n",
       "      <th>1803</th>\n",
       "      <td>261</td>\n",
       "      <td>[0, 405, 28, 413]</td>\n",
       "      <td>5</td>\n",
       "      <td>2931</td>\n",
       "      <td>0</td>\n",
       "      <td>[[405, 0, 405, 29, 414, 29, 414, 0]]</td>\n",
       "      <td>002931.jpg</td>\n",
       "      <td>375</td>\n",
       "      <td>500</td>\n",
       "      <td>bottle</td>\n",
       "    </tr>\n",
       "    <tr>\n",
       "      <th>1805</th>\n",
       "      <td>261</td>\n",
       "      <td>[0, 421, 28, 429]</td>\n",
       "      <td>5</td>\n",
       "      <td>2931</td>\n",
       "      <td>0</td>\n",
       "      <td>[[421, 0, 421, 29, 430, 29, 430, 0]]</td>\n",
       "      <td>002931.jpg</td>\n",
       "      <td>375</td>\n",
       "      <td>500</td>\n",
       "      <td>bottle</td>\n",
       "    </tr>\n",
       "    <tr>\n",
       "      <th>1951</th>\n",
       "      <td>1518</td>\n",
       "      <td>[217, 265, 285, 286]</td>\n",
       "      <td>5</td>\n",
       "      <td>3159</td>\n",
       "      <td>0</td>\n",
       "      <td>[[265, 217, 265, 286, 287, 286, 287, 217]]</td>\n",
       "      <td>003159.jpg</td>\n",
       "      <td>360</td>\n",
       "      <td>480</td>\n",
       "      <td>bottle</td>\n",
       "    </tr>\n",
       "    <tr>\n",
       "      <th>1952</th>\n",
       "      <td>1518</td>\n",
       "      <td>[199, 247, 267, 268]</td>\n",
       "      <td>5</td>\n",
       "      <td>3159</td>\n",
       "      <td>0</td>\n",
       "      <td>[[247, 199, 247, 268, 269, 268, 269, 199]]</td>\n",
       "      <td>003159.jpg</td>\n",
       "      <td>360</td>\n",
       "      <td>480</td>\n",
       "      <td>bottle</td>\n",
       "    </tr>\n",
       "    <tr>\n",
       "      <th>4375</th>\n",
       "      <td>1166</td>\n",
       "      <td>[196, 90, 217, 142]</td>\n",
       "      <td>7</td>\n",
       "      <td>6931</td>\n",
       "      <td>0</td>\n",
       "      <td>[[90, 196, 90, 218, 143, 218, 143, 196]]</td>\n",
       "      <td>006931.jpg</td>\n",
       "      <td>500</td>\n",
       "      <td>333</td>\n",
       "      <td>car</td>\n",
       "    </tr>\n",
       "    <tr>\n",
       "      <th>4379</th>\n",
       "      <td>1166</td>\n",
       "      <td>[195, 243, 216, 295]</td>\n",
       "      <td>7</td>\n",
       "      <td>6931</td>\n",
       "      <td>0</td>\n",
       "      <td>[[243, 195, 243, 217, 296, 217, 296, 195]]</td>\n",
       "      <td>006931.jpg</td>\n",
       "      <td>500</td>\n",
       "      <td>333</td>\n",
       "      <td>car</td>\n",
       "    </tr>\n",
       "    <tr>\n",
       "      <th>5000</th>\n",
       "      <td>552</td>\n",
       "      <td>[153, 231, 176, 253]</td>\n",
       "      <td>1</td>\n",
       "      <td>7976</td>\n",
       "      <td>0</td>\n",
       "      <td>[[231, 153, 231, 177, 254, 177, 254, 153]]</td>\n",
       "      <td>007976.jpg</td>\n",
       "      <td>375</td>\n",
       "      <td>500</td>\n",
       "      <td>aeroplane</td>\n",
       "    </tr>\n",
       "    <tr>\n",
       "      <th>5002</th>\n",
       "      <td>552</td>\n",
       "      <td>[205, 264, 227, 287]</td>\n",
       "      <td>1</td>\n",
       "      <td>7976</td>\n",
       "      <td>0</td>\n",
       "      <td>[[264, 205, 264, 228, 288, 228, 288, 205]]</td>\n",
       "      <td>007976.jpg</td>\n",
       "      <td>375</td>\n",
       "      <td>500</td>\n",
       "      <td>aeroplane</td>\n",
       "    </tr>\n",
       "  </tbody>\n",
       "</table>\n",
       "</div>"
      ],
      "text/plain": [
       "      area                  bbox  category_id  image_id  iscrowd  \\\n",
       "11     950  [179, 194, 228, 212]           15        32        0   \n",
       "12     950    [188, 25, 237, 43]           15        32        0   \n",
       "388   1218  [155, 252, 175, 309]            1       657        0   \n",
       "391   1218  [191, 233, 211, 290]            1       657        0   \n",
       "1601  4600     [59, 46, 173, 85]           15      2595        0   \n",
       "1602  4600     [68, 18, 182, 57]           15      2595        0   \n",
       "1636  1920  [174, 318, 213, 365]            3      2664        0   \n",
       "1637  1920  [218, 460, 265, 499]            3      2664        0   \n",
       "1803   261     [0, 405, 28, 413]            5      2931        0   \n",
       "1805   261     [0, 421, 28, 429]            5      2931        0   \n",
       "1951  1518  [217, 265, 285, 286]            5      3159        0   \n",
       "1952  1518  [199, 247, 267, 268]            5      3159        0   \n",
       "4375  1166   [196, 90, 217, 142]            7      6931        0   \n",
       "4379  1166  [195, 243, 216, 295]            7      6931        0   \n",
       "5000   552  [153, 231, 176, 253]            1      7976        0   \n",
       "5002   552  [205, 264, 227, 287]            1      7976        0   \n",
       "\n",
       "                                    segmentation   file_name  height  width  \\\n",
       "11    [[194, 179, 194, 229, 213, 229, 213, 179]]  000032.jpg     281    500   \n",
       "12        [[25, 188, 25, 238, 44, 238, 44, 188]]  000032.jpg     281    500   \n",
       "388   [[252, 155, 252, 176, 310, 176, 310, 155]]  000657.jpg     333    500   \n",
       "391   [[233, 191, 233, 212, 291, 212, 291, 191]]  000657.jpg     333    500   \n",
       "1601        [[46, 59, 46, 174, 86, 174, 86, 59]]  002595.jpg     375    500   \n",
       "1602        [[18, 68, 18, 183, 58, 183, 58, 68]]  002595.jpg     375    500   \n",
       "1636  [[318, 174, 318, 214, 366, 214, 366, 174]]  002664.jpg     335    500   \n",
       "1637  [[460, 218, 460, 266, 500, 266, 500, 218]]  002664.jpg     335    500   \n",
       "1803        [[405, 0, 405, 29, 414, 29, 414, 0]]  002931.jpg     375    500   \n",
       "1805        [[421, 0, 421, 29, 430, 29, 430, 0]]  002931.jpg     375    500   \n",
       "1951  [[265, 217, 265, 286, 287, 286, 287, 217]]  003159.jpg     360    480   \n",
       "1952  [[247, 199, 247, 268, 269, 268, 269, 199]]  003159.jpg     360    480   \n",
       "4375    [[90, 196, 90, 218, 143, 218, 143, 196]]  006931.jpg     500    333   \n",
       "4379  [[243, 195, 243, 217, 296, 217, 296, 195]]  006931.jpg     500    333   \n",
       "5000  [[231, 153, 231, 177, 254, 177, 254, 153]]  007976.jpg     375    500   \n",
       "5002  [[264, 205, 264, 228, 288, 228, 288, 205]]  007976.jpg     375    500   \n",
       "\n",
       "       cat_name  \n",
       "11       person  \n",
       "12       person  \n",
       "388   aeroplane  \n",
       "391   aeroplane  \n",
       "1601     person  \n",
       "1602     person  \n",
       "1636       bird  \n",
       "1637       bird  \n",
       "1803     bottle  \n",
       "1805     bottle  \n",
       "1951     bottle  \n",
       "1952     bottle  \n",
       "4375        car  \n",
       "4379        car  \n",
       "5000  aeroplane  \n",
       "5002  aeroplane  "
      ]
     },
     "execution_count": 121,
     "metadata": {},
     "output_type": "execute_result"
    }
   ],
   "source": [
    "final_df[final_df[['file_name','area']].duplicated(keep=False)==True]"
   ]
  },
  {
   "cell_type": "code",
   "execution_count": 142,
   "metadata": {},
   "outputs": [
    {
     "data": {
      "text/html": [
       "<div>\n",
       "<style scoped>\n",
       "    .dataframe tbody tr th:only-of-type {\n",
       "        vertical-align: middle;\n",
       "    }\n",
       "\n",
       "    .dataframe tbody tr th {\n",
       "        vertical-align: top;\n",
       "    }\n",
       "\n",
       "    .dataframe thead th {\n",
       "        text-align: right;\n",
       "    }\n",
       "</style>\n",
       "<table border=\"1\" class=\"dataframe\">\n",
       "  <thead>\n",
       "    <tr style=\"text-align: right;\">\n",
       "      <th></th>\n",
       "      <th>file_name</th>\n",
       "      <th>cat_name</th>\n",
       "    </tr>\n",
       "  </thead>\n",
       "  <tbody>\n",
       "    <tr>\n",
       "      <th>0</th>\n",
       "      <td>000012.jpg</td>\n",
       "      <td>car</td>\n",
       "    </tr>\n",
       "    <tr>\n",
       "      <th>1</th>\n",
       "      <td>000017.jpg</td>\n",
       "      <td>horse</td>\n",
       "    </tr>\n",
       "    <tr>\n",
       "      <th>2</th>\n",
       "      <td>000023.jpg</td>\n",
       "      <td>person</td>\n",
       "    </tr>\n",
       "    <tr>\n",
       "      <th>3</th>\n",
       "      <td>000026.jpg</td>\n",
       "      <td>car</td>\n",
       "    </tr>\n",
       "    <tr>\n",
       "      <th>4</th>\n",
       "      <td>000032.jpg</td>\n",
       "      <td>aeroplane</td>\n",
       "    </tr>\n",
       "  </tbody>\n",
       "</table>\n",
       "</div>"
      ],
      "text/plain": [
       "    file_name   cat_name\n",
       "0  000012.jpg        car\n",
       "1  000017.jpg      horse\n",
       "2  000023.jpg     person\n",
       "3  000026.jpg        car\n",
       "4  000032.jpg  aeroplane"
      ]
     },
     "execution_count": 142,
     "metadata": {},
     "output_type": "execute_result"
    },
    {
     "data": {
      "text/plain": [
       "(2502, 2)"
      ]
     },
     "execution_count": 142,
     "metadata": {},
     "output_type": "execute_result"
    }
   ],
   "source": [
    "#category csv, choose cat with larger bbox area\n",
    "lrg_cat = final_df.groupby(['file_name'],as_index=False).agg({'area': np.max})\n",
    "lrg_cat = lrg_cat.merge(final_df[['file_name','cat_name','area']],how='left').drop('area',axis=1)\n",
    "lrg_cat.head()\n",
    "lrg_cat.shape"
   ]
  },
  {
   "cell_type": "code",
   "execution_count": 143,
   "metadata": {},
   "outputs": [
    {
     "data": {
      "text/html": [
       "<div>\n",
       "<style scoped>\n",
       "    .dataframe tbody tr th:only-of-type {\n",
       "        vertical-align: middle;\n",
       "    }\n",
       "\n",
       "    .dataframe tbody tr th {\n",
       "        vertical-align: top;\n",
       "    }\n",
       "\n",
       "    .dataframe thead th {\n",
       "        text-align: right;\n",
       "    }\n",
       "</style>\n",
       "<table border=\"1\" class=\"dataframe\">\n",
       "  <thead>\n",
       "    <tr style=\"text-align: right;\">\n",
       "      <th></th>\n",
       "      <th>file_name</th>\n",
       "      <th>cat_name</th>\n",
       "    </tr>\n",
       "  </thead>\n",
       "  <tbody>\n",
       "    <tr>\n",
       "      <th>153</th>\n",
       "      <td>000657.jpg</td>\n",
       "      <td>aeroplane</td>\n",
       "    </tr>\n",
       "    <tr>\n",
       "      <th>154</th>\n",
       "      <td>000657.jpg</td>\n",
       "      <td>aeroplane</td>\n",
       "    </tr>\n",
       "  </tbody>\n",
       "</table>\n",
       "</div>"
      ],
      "text/plain": [
       "      file_name   cat_name\n",
       "153  000657.jpg  aeroplane\n",
       "154  000657.jpg  aeroplane"
      ]
     },
     "execution_count": 143,
     "metadata": {},
     "output_type": "execute_result"
    }
   ],
   "source": [
    "lrg_cat[lrg_cat.duplicated(keep=False)==True] # there might be multiple maximum bboxes' area in 1 pic.\n",
    "lrg_cat.drop_duplicates('file_name',inplace=True)\n",
    "# lrg_cat.shape"
   ]
  },
  {
   "cell_type": "code",
   "execution_count": 166,
   "metadata": {},
   "outputs": [
    {
     "data": {
      "text/plain": [
       "(2501, 2)"
      ]
     },
     "execution_count": 166,
     "metadata": {},
     "output_type": "execute_result"
    }
   ],
   "source": [
    "lrg_cat.shape\n",
    "# lrg_cat.to_csv(PATH/ 'lrg_cat.csv',index=False)"
   ]
  },
  {
   "cell_type": "code",
   "execution_count": 144,
   "metadata": {},
   "outputs": [
    {
     "data": {
      "text/html": [
       "<div>\n",
       "<style scoped>\n",
       "    .dataframe tbody tr th:only-of-type {\n",
       "        vertical-align: middle;\n",
       "    }\n",
       "\n",
       "    .dataframe tbody tr th {\n",
       "        vertical-align: top;\n",
       "    }\n",
       "\n",
       "    .dataframe thead th {\n",
       "        text-align: right;\n",
       "    }\n",
       "</style>\n",
       "<table border=\"1\" class=\"dataframe\">\n",
       "  <thead>\n",
       "    <tr style=\"text-align: right;\">\n",
       "      <th></th>\n",
       "      <th>file_name</th>\n",
       "      <th>bbox</th>\n",
       "    </tr>\n",
       "  </thead>\n",
       "  <tbody>\n",
       "    <tr>\n",
       "      <th>0</th>\n",
       "      <td>000012.jpg</td>\n",
       "      <td>96 155 269 350</td>\n",
       "    </tr>\n",
       "    <tr>\n",
       "      <th>1</th>\n",
       "      <td>000017.jpg</td>\n",
       "      <td>77 89 335 402</td>\n",
       "    </tr>\n",
       "    <tr>\n",
       "      <th>2</th>\n",
       "      <td>000023.jpg</td>\n",
       "      <td>1 2 461 242</td>\n",
       "    </tr>\n",
       "    <tr>\n",
       "      <th>3</th>\n",
       "      <td>000026.jpg</td>\n",
       "      <td>124 89 211 336</td>\n",
       "    </tr>\n",
       "    <tr>\n",
       "      <th>4</th>\n",
       "      <td>000032.jpg</td>\n",
       "      <td>77 103 182 374</td>\n",
       "    </tr>\n",
       "  </tbody>\n",
       "</table>\n",
       "</div>"
      ],
      "text/plain": [
       "    file_name            bbox\n",
       "0  000012.jpg  96 155 269 350\n",
       "1  000017.jpg   77 89 335 402\n",
       "2  000023.jpg     1 2 461 242\n",
       "3  000026.jpg  124 89 211 336\n",
       "4  000032.jpg  77 103 182 374"
      ]
     },
     "execution_count": 144,
     "metadata": {},
     "output_type": "execute_result"
    },
    {
     "data": {
      "text/plain": [
       "(2501, 2)"
      ]
     },
     "execution_count": 144,
     "metadata": {},
     "output_type": "execute_result"
    }
   ],
   "source": [
    "# bbox csv, choose bbox with larger bbox area\n",
    "lrg_bbox = final_df.groupby(['file_name'],as_index=False).agg({'area': np.max})\n",
    "lrg_bbox = lrg_bbox.merge(final_df[['file_name','bbox','area']],how='left').drop('area',axis=1)\n",
    "lrg_bbox.bbox = lrg_bbox.bbox.apply(lambda x: ' '.join([str(i) for i in x]))\n",
    "lrg_bbox.drop_duplicates('file_name',inplace=True)\n",
    "lrg_bbox.head()\n",
    "lrg_bbox.shape"
   ]
  },
  {
   "cell_type": "code",
   "execution_count": 167,
   "metadata": {},
   "outputs": [],
   "source": [
    "lrg_bbox.to_csv(PATH/ 'lrg_bbox.csv',index=False)"
   ]
  },
  {
   "cell_type": "code",
   "execution_count": 151,
   "metadata": {},
   "outputs": [
    {
     "data": {
      "text/html": [
       "<div>\n",
       "<style scoped>\n",
       "    .dataframe tbody tr th:only-of-type {\n",
       "        vertical-align: middle;\n",
       "    }\n",
       "\n",
       "    .dataframe tbody tr th {\n",
       "        vertical-align: top;\n",
       "    }\n",
       "\n",
       "    .dataframe thead th {\n",
       "        text-align: right;\n",
       "    }\n",
       "</style>\n",
       "<table border=\"1\" class=\"dataframe\">\n",
       "  <thead>\n",
       "    <tr style=\"text-align: right;\">\n",
       "      <th></th>\n",
       "      <th>file_name</th>\n",
       "      <th>cat_name</th>\n",
       "    </tr>\n",
       "  </thead>\n",
       "  <tbody>\n",
       "    <tr>\n",
       "      <th>0</th>\n",
       "      <td>000012.jpg</td>\n",
       "      <td>car</td>\n",
       "    </tr>\n",
       "    <tr>\n",
       "      <th>1</th>\n",
       "      <td>000017.jpg</td>\n",
       "      <td>person horse</td>\n",
       "    </tr>\n",
       "    <tr>\n",
       "      <th>2</th>\n",
       "      <td>000023.jpg</td>\n",
       "      <td>bicycle bicycle person person person</td>\n",
       "    </tr>\n",
       "    <tr>\n",
       "      <th>3</th>\n",
       "      <td>000026.jpg</td>\n",
       "      <td>car</td>\n",
       "    </tr>\n",
       "    <tr>\n",
       "      <th>4</th>\n",
       "      <td>000032.jpg</td>\n",
       "      <td>aeroplane aeroplane person person</td>\n",
       "    </tr>\n",
       "  </tbody>\n",
       "</table>\n",
       "</div>"
      ],
      "text/plain": [
       "    file_name                              cat_name\n",
       "0  000012.jpg                                   car\n",
       "1  000017.jpg                          person horse\n",
       "2  000023.jpg  bicycle bicycle person person person\n",
       "3  000026.jpg                                   car\n",
       "4  000032.jpg     aeroplane aeroplane person person"
      ]
     },
     "execution_count": 151,
     "metadata": {},
     "output_type": "execute_result"
    },
    {
     "data": {
      "text/plain": [
       "(2501, 2)"
      ]
     },
     "execution_count": 151,
     "metadata": {},
     "output_type": "execute_result"
    }
   ],
   "source": [
    "# multi category csv\n",
    "def cat_concat(li):\n",
    "    return ' '.join(str(i) for i in li)\n",
    "mult_cat = final_df.groupby(['file_name'],as_index=False).agg({'cat_name': cat_concat })\n",
    "# mult_cat = lrg_cat.merge(final_df[['file_name','cat_name','area']],how='left').drop('area',axis=1)\n",
    "mult_cat.head()\n",
    "mult_cat.shape"
   ]
  },
  {
   "cell_type": "code",
   "execution_count": 161,
   "metadata": {},
   "outputs": [
    {
     "data": {
      "text/html": [
       "<div>\n",
       "<style scoped>\n",
       "    .dataframe tbody tr th:only-of-type {\n",
       "        vertical-align: middle;\n",
       "    }\n",
       "\n",
       "    .dataframe tbody tr th {\n",
       "        vertical-align: top;\n",
       "    }\n",
       "\n",
       "    .dataframe thead th {\n",
       "        text-align: right;\n",
       "    }\n",
       "</style>\n",
       "<table border=\"1\" class=\"dataframe\">\n",
       "  <thead>\n",
       "    <tr style=\"text-align: right;\">\n",
       "      <th></th>\n",
       "      <th>file_name</th>\n",
       "      <th>bbox</th>\n",
       "    </tr>\n",
       "  </thead>\n",
       "  <tbody>\n",
       "    <tr>\n",
       "      <th>0</th>\n",
       "      <td>000012.jpg</td>\n",
       "      <td>96 155 269 350</td>\n",
       "    </tr>\n",
       "    <tr>\n",
       "      <th>1</th>\n",
       "      <td>000017.jpg</td>\n",
       "      <td>61 184 198 278 77 89 335 402</td>\n",
       "    </tr>\n",
       "    <tr>\n",
       "      <th>2</th>\n",
       "      <td>000023.jpg</td>\n",
       "      <td>229 8 499 244 219 229 499 333 0 1 368 116 1 2 ...</td>\n",
       "    </tr>\n",
       "    <tr>\n",
       "      <th>3</th>\n",
       "      <td>000026.jpg</td>\n",
       "      <td>124 89 211 336</td>\n",
       "    </tr>\n",
       "    <tr>\n",
       "      <th>4</th>\n",
       "      <td>000032.jpg</td>\n",
       "      <td>77 103 182 374 87 132 122 196 179 194 228 212 ...</td>\n",
       "    </tr>\n",
       "  </tbody>\n",
       "</table>\n",
       "</div>"
      ],
      "text/plain": [
       "    file_name                                               bbox\n",
       "0  000012.jpg                                     96 155 269 350\n",
       "1  000017.jpg                       61 184 198 278 77 89 335 402\n",
       "2  000023.jpg  229 8 499 244 219 229 499 333 0 1 368 116 1 2 ...\n",
       "3  000026.jpg                                     124 89 211 336\n",
       "4  000032.jpg  77 103 182 374 87 132 122 196 179 194 228 212 ..."
      ]
     },
     "execution_count": 161,
     "metadata": {},
     "output_type": "execute_result"
    },
    {
     "data": {
      "text/plain": [
       "(2501, 2)"
      ]
     },
     "execution_count": 161,
     "metadata": {},
     "output_type": "execute_result"
    }
   ],
   "source": [
    "# multi category csv\n",
    "def bbox_concat(li):\n",
    "    return ' '.join(str(i) for l in li for i in l)\n",
    "mult_bbox = final_df.groupby(['file_name'],as_index=False).agg({'bbox': bbox_concat })\n",
    "mult_bbox.head()\n",
    "mult_bbox.shape"
   ]
  },
  {
   "cell_type": "code",
   "execution_count": 168,
   "metadata": {},
   "outputs": [],
   "source": [
    "mult_cat.to_csv(PATH / 'mult_cat.csv',index=False)\n",
    "mult_bbox.to_csv(PATH / 'mult_bbox.csv',index=False)"
   ]
  }
 ],
 "metadata": {
  "kernelspec": {
   "display_name": "Python 3",
   "language": "python",
   "name": "python3"
  },
  "language_info": {
   "codemirror_mode": {
    "name": "ipython",
    "version": 3
   },
   "file_extension": ".py",
   "mimetype": "text/x-python",
   "name": "python",
   "nbconvert_exporter": "python",
   "pygments_lexer": "ipython3",
   "version": "3.6.4"
  }
 },
 "nbformat": 4,
 "nbformat_minor": 2
}
